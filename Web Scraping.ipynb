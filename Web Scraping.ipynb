{
 "cells": [
  {
   "cell_type": "code",
   "execution_count": null,
   "id": "d314494e",
   "metadata": {},
   "outputs": [],
   "source": [
    "import pandas as pd\n",
    "from selenium import webdriver\n",
    "from selenium.webdriver.common.by import By\n",
    "import time"
   ]
  },
  {
   "cell_type": "code",
   "execution_count": null,
   "id": "836d123f",
   "metadata": {},
   "outputs": [],
   "source": [
    "pd.set_option('display.max_rows', 500)\n",
    "pd.set_option('display.max_columns', 500)"
   ]
  },
  {
   "cell_type": "code",
   "execution_count": null,
   "id": "dfa5b4eb",
   "metadata": {},
   "outputs": [],
   "source": [
    "# https://stackoverflow.com/questions/20986631/how-can-i-scroll-a-web-page-using-selenium-webdriver-in-python\n",
    "def scroll_down(driver):\n",
    "    SCROLL_PAUSE_TIME = 1\n",
    "\n",
    "    # Get scroll height\n",
    "    last_height = driver.execute_script(\"return document.body.scrollHeight\")\n",
    "\n",
    "    while True:\n",
    "        # Scroll down to bottom\n",
    "        driver.execute_script(\"window.scrollTo(0, document.body.scrollHeight);\")\n",
    "\n",
    "        # Wait to load page\n",
    "        time.sleep(SCROLL_PAUSE_TIME)\n",
    "\n",
    "        # Calculate new scroll height and compare with last scroll height\n",
    "        new_height = driver.execute_script(\"return document.body.scrollHeight\")\n",
    "        if new_height == last_height:\n",
    "            break\n",
    "        last_height = new_height"
   ]
  },
  {
   "cell_type": "code",
   "execution_count": null,
   "id": "f2680327",
   "metadata": {},
   "outputs": [],
   "source": [
    "# function to collect guitar links\n",
    "def get_guitar_links(links_df):\n",
    "    c = webdriver.ChromeOptions()\n",
    "    c.add_argument(\"--incognito\")\n",
    "\n",
    "    driver = webdriver.Chrome(\"chromedriver.exe\",options=c)\n",
    "    driver.maximize_window()\n",
    "\n",
    "    driver.get(\"https://findmyguitar.com/explorer.php\")\n",
    "    \n",
    "    scroll_down(driver) # scroll all the way down\n",
    "    guitars = driver.find_elements(by=By.CLASS_NAME,value='image-cards') #get all the guitars\n",
    "    \n",
    "    print(f\"There are {len(guitars)} number of guitars.\")\n",
    "    \n",
    "    links = links_df['Link'].unique() # get all the links from the previous guitars\n",
    "\n",
    "    for guitar in guitars:\n",
    "        a_tag = guitar.find_element(by=By.TAG_NAME,value='a')\n",
    "        link = a_tag.get_attribute(\"href\")\n",
    "        model = a_tag.find_element(by=By.CLASS_NAME,value='card-title').text\n",
    "        \n",
    "        # if link is in the already dataframe, do not add it\n",
    "        if link in links:\n",
    "            print(f\"{model} is already scraped.({link})\")\n",
    "            continue\n",
    "\n",
    "        links_df = links_df.append({'Model' : model, 'Link' : link},ignore_index=True)\n",
    "        print(f\"{model} is added.({link})\")\n",
    "    \n",
    "    return links_df"
   ]
  },
  {
   "cell_type": "code",
   "execution_count": null,
   "id": "05e53eab",
   "metadata": {},
   "outputs": [],
   "source": [
    "links_df = pd.DataFrame(columns=['Link'])\n",
    "\n",
    "get_guitar_links(links_df)\n",
    "\n",
    "links_df.to_csv(\"data/findmyguitars.csv\",index=False)"
   ]
  },
  {
   "cell_type": "code",
   "execution_count": null,
   "id": "6f83d62d",
   "metadata": {},
   "outputs": [],
   "source": [
    "def get_specs(driver,df,idx):\n",
    "    guitar_specifications = driver.find_element(by=By.CLASS_NAME,value='guitar-specifications') # get the specs table\n",
    "    specs = guitar_specifications.find_elements(by=By.CLASS_NAME,value='section-row') # get the rows from the table\n",
    "    \n",
    "    # loop through every row\n",
    "    for spec in specs:\n",
    "        spec = spec.find_elements(by=By.TAG_NAME,value='span')\n",
    "        attribute = spec[0].text.split(\":\")[0] # get the attribute\n",
    "        value = spec[1].text # get the correspoding value for the attribute\n",
    "        df.at[idx,attribute] = value # write to the dataframe"
   ]
  },
  {
   "cell_type": "code",
   "execution_count": null,
   "id": "82a87305",
   "metadata": {},
   "outputs": [],
   "source": [
    "def get_strengths_and_weaknesses(driver,df,idx):\n",
    "    strength_table = driver.find_elements(by=By.CLASS_NAME,value='summary-table')[1] # get the strengths and weaknesses table\n",
    "\n",
    "    strengths = strength_table.find_elements(by=By.CLASS_NAME,value='isset') # get the positive values\n",
    "    weaknesses = strength_table.find_elements(by=By.CLASS_NAME,value='notset') # get the negative values\n",
    "    \n",
    "    # loop through positive values\n",
    "    for strength in strengths:\n",
    "        attribute = strength.text\n",
    "        value = True\n",
    "        df.at[idx,attribute] = value # write to the dataframe as True\n",
    "    \n",
    "    # loop through negative values\n",
    "    for weakness in weaknesses:\n",
    "        attribute = weakness.text\n",
    "        value = False\n",
    "        df.at[idx,attribute] = value # write to the dataframe as False"
   ]
  },
  {
   "cell_type": "code",
   "execution_count": null,
   "id": "6e37b007",
   "metadata": {},
   "outputs": [],
   "source": [
    "def get_materials(driver,df,idx):\n",
    "    materials = driver.find_element(by=By.CLASS_NAME,value='three-cs')\n",
    "    \n",
    "    # get the Body,Neck,Fretboard Material\n",
    "    body_material = materials.find_element(by=By.ID,value='col1').find_element(by=By.TAG_NAME,value='figcaption').text.split(\" Body\")[0]\n",
    "    neck_material = materials.find_element(by=By.ID,value='col2').find_element(by=By.TAG_NAME,value='figcaption').text.split(\" Neck\")[0]\n",
    "    fretboard_material = materials.find_element(by=By.ID,value='col3').find_element(by=By.TAG_NAME,value='figcaption').text.split(\" Fretboard\")[0]\n",
    "    \n",
    "    # because specs table also has the material info, append them to the dataframe as 2\n",
    "    df.at[idx,'Body Material 2'] = body_material\n",
    "    df.at[idx,'Neck Material 2'] = neck_material\n",
    "    df.at[idx,'Fretboard Material 2'] = fretboard_material\n",
    "    "
   ]
  },
  {
   "cell_type": "code",
   "execution_count": null,
   "id": "bb685b66",
   "metadata": {},
   "outputs": [],
   "source": [
    "def get_neck_shape(driver,df,idx):\n",
    "    paragraphs = driver.find_elements(by=By.TAG_NAME, value='p')\n",
    "    \n",
    "    for p in paragraphs:\n",
    "        neck_shape = re.findall('It has a [a-zA-Z\\s*]+ type neck.',p.text)\n",
    "        if neck_shape:\n",
    "            df.at[idx,'Neck Shape'] = neck_shape[0]\n",
    "            break"
   ]
  },
  {
   "cell_type": "code",
   "execution_count": null,
   "id": "fcbfee18",
   "metadata": {},
   "outputs": [],
   "source": [
    "def get_price(driver,df,idx):\n",
    "    # findmyguitars.com keeps guitar prices from different websites like (amazon.com, reverb.com, thomann.de, sweetwater.com)\n",
    "    prices = driver.find_element(by=By.ID,value='all-prices-container').find_elements(by=By.CLASS_NAME,value='static.more-results-button')\n",
    "            \n",
    "    avg_price = 0 # calculate the average price from all the websites that is shown\n",
    "    num_of_products = len(prices)\n",
    "    for price in prices:\n",
    "        price = price.find_element(by=By.TAG_NAME,value='span').text.split(\" \")[0]\n",
    "        \n",
    "        # if price is in €, convert it to the dollar by the today's exchange rate.\n",
    "        if \"€\" in price:\n",
    "            price = float(price.split(\"€\")[1].replace(',',''))\n",
    "            price *= 1.02\n",
    "            avg_price += price\n",
    "        elif \"$\" in price: # if it is dollar, stays same\n",
    "            price = float(price.split(\"$\")[1].replace(',',''))\n",
    "            avg_price += price\n",
    "        else: # sometimes price info is not shown\n",
    "            print(\"No price info :\",price)\n",
    "            num_of_products -= 1 # subtract 1 from the number of items to not to effect the mean value\n",
    "            \n",
    "    avg_price /= num_of_products # get the mean prcie \n",
    "            \n",
    "    df.at[idx,\"Price\"] = avg_price # write to dataframe\n",
    "    print(\"AVG Price :\",avg_price)"
   ]
  },
  {
   "cell_type": "code",
   "execution_count": null,
   "id": "1c49aa0b",
   "metadata": {},
   "outputs": [],
   "source": [
    "def scrape_guitar_info(df):\n",
    "    c = webdriver.ChromeOptions()\n",
    "    c.add_argument(\"--incognito\")\n",
    "\n",
    "    driver = webdriver.Chrome(\"chromedriver.exe\",options=c)\n",
    "    driver.maximize_window()\n",
    "    \n",
    "    for idx,row in df.iterrows():\n",
    "        url = row['Link']\n",
    "        \n",
    "        try: # sometimes selenium throws unknown error\n",
    "            driver.get(url) # go to guitar specs page\n",
    "        except:\n",
    "            print('error nvm')\n",
    "        time.sleep(1)\n",
    "\n",
    "        successful_scrape = False\n",
    "\n",
    "        while not successful_scrape:\n",
    "            try:\n",
    "                get_specs(driver,df,idx) # get the information from specs table\n",
    "                get_strengths_and_weaknesses(driver,df,idx) # get the information from strengths and wekanesses table (contains bool values)\n",
    "                get_materials(driver,df,idx) # get materials (body wood, fretboard wood, neck wood)\n",
    "                get_neck_shape(driver,df,idx)\n",
    "\n",
    "                successful_scrape = True\n",
    "            except: # if errors occurs while scraping try again\n",
    "                print('unsuccessfull scrape try it again')\n",
    "                successful_scrape = False\n",
    "\n",
    "            try:    \n",
    "                get_price(driver,df,idx) # get the price information\n",
    "            except: # not all guitars have price information on the html\n",
    "                print(\"no price info. continue with the next item\")\n",
    "\n",
    "        time.sleep(1)"
   ]
  },
  {
   "cell_type": "code",
   "execution_count": null,
   "id": "e9cb7823",
   "metadata": {},
   "outputs": [],
   "source": [
    "df = pd.read_csv(\"data/findmyguitars.csv\")"
   ]
  },
  {
   "cell_type": "code",
   "execution_count": null,
   "id": "4713eee4",
   "metadata": {},
   "outputs": [],
   "source": [
    "scrape_guitar_info(df)\n",
    "df.to_csv(\"data/findmyguitars.csv\",index=False)"
   ]
  }
 ],
 "metadata": {
  "kernelspec": {
   "display_name": "Python 3 (ipykernel)",
   "language": "python",
   "name": "python3"
  },
  "language_info": {
   "codemirror_mode": {
    "name": "ipython",
    "version": 3
   },
   "file_extension": ".py",
   "mimetype": "text/x-python",
   "name": "python",
   "nbconvert_exporter": "python",
   "pygments_lexer": "ipython3",
   "version": "3.9.10"
  }
 },
 "nbformat": 4,
 "nbformat_minor": 5
}
